{
 "cells": [
  {
   "cell_type": "code",
   "execution_count": 33,
   "metadata": {},
   "outputs": [],
   "source": [
    "base_url = 'http://192.168.0.48:5000'\n",
    "id_device = '123'"
   ]
  },
  {
   "cell_type": "code",
   "execution_count": 34,
   "metadata": {},
   "outputs": [],
   "source": [
    "import requests"
   ]
  },
  {
   "cell_type": "code",
   "execution_count": 60,
   "metadata": {},
   "outputs": [],
   "source": [
    "url = f'{base_url}/log_device/{id_device}'"
   ]
  },
  {
   "cell_type": "code",
   "execution_count": 61,
   "metadata": {},
   "outputs": [
    {
     "data": {
      "text/plain": [
       "'http://192.168.0.48:5000/log_device/123'"
      ]
     },
     "execution_count": 61,
     "metadata": {},
     "output_type": "execute_result"
    }
   ],
   "source": [
    "url"
   ]
  },
  {
   "cell_type": "code",
   "execution_count": 62,
   "metadata": {},
   "outputs": [],
   "source": [
    "log_data = {\n",
    "        \"app\": {\n",
    "            \"timestamp\": 1706016312,\n",
    "            \"fwVersion\": \"v1.3.0\",\n",
    "            \"hwVersion\": \"v1.0.0\",\n",
    "            \"serialNumber\": \"0x1231237894579834857938457\"\n",
    "        },\n",
    "        \"accelerometer\": {\n",
    "            \"enable\": True,\n",
    "            \"error\": 0,\n",
    "            \"x\": 10,\n",
    "            \"y\": 10,\n",
    "            \"z\": 10,\n",
    "            \"vibrationDetect\": True\n",
    "        },\n",
    "        \"infra_red\": {\n",
    "            \"enable\": True,\n",
    "            \"error\": 0,\n",
    "            \"humanDetect\": False\n",
    "        },\n",
    "        \"battery\": {\n",
    "            \"enable\": True,\n",
    "            \"error\": 0,\n",
    "            \"accumulatedCapacity\": 2000,\n",
    "            \"temperature\": 25,\n",
    "            \"voltage\": 330,\n",
    "            \"batteryStatus\": 10,\n",
    "            \"batteryAlert\": 100,\n",
    "            \"current\": 100,\n",
    "            \"scaled_r\": 10,\n",
    "            \"measured_z\": 20,\n",
    "            \"internalTemperature\": 30,\n",
    "            \"stateOfHealth\": 3,\n",
    "            \"designCapacity\": 5,\n",
    "            \"cal_count\": 10,\n",
    "            \"cal_current\": 100,\n",
    "            \"cal_voltage\": 1000,\n",
    "            \"cal_temperature\": 10000\n",
    "        },\n",
    "        \"camera\": {\n",
    "            \"error\": 0\n",
    "        },\n",
    "        \"memory\": {\n",
    "            \"error\": 0,\n",
    "            \"sizeMemory\": 134217728,\n",
    "            \"usedMemory\": 1024\n",
    "        },\n",
    "        \"wifi\": {\n",
    "            \"device\": \"DA16200\",\n",
    "            \"sdk\": \"3.2.8.0\",\n",
    "            \"version\": \"FRTOS-GEN01-01-f017bfdf51-006558\",\n",
    "            \"dhcp\": True,\n",
    "            \"ip_address\": \"192.168.1.19\",\n",
    "            \"netmask\": \"255.255.255.0\",\n",
    "            \"gateway\": \"192.168.1.1\",\n",
    "            \"dns\": \"192.168.1.1\",\n",
    "            \"dns2\": \"192.168.1.2\",\n",
    "            \"sntp\": \"pool.ntp.org\",\n",
    "            \"sntp2\": \"1.pool.ntp.org\",\n",
    "            \"ssid\": \"@MyNetwork\",\n",
    "            \"mac\": \"AA:BB:CC:DD:EE:FF\"\n",
    "        }\n",
    "    }\n",
    "    "
   ]
  },
  {
   "cell_type": "code",
   "execution_count": 63,
   "metadata": {},
   "outputs": [],
   "source": [
    "response = requests.post(url, json=log_data)"
   ]
  },
  {
   "cell_type": "code",
   "execution_count": 53,
   "metadata": {},
   "outputs": [
    {
     "data": {
      "text/plain": [
       "'http://192.168.0.48:5000/log_device/123'"
      ]
     },
     "execution_count": 53,
     "metadata": {},
     "output_type": "execute_result"
    }
   ],
   "source": [
    "url"
   ]
  },
  {
   "cell_type": "code",
   "execution_count": 64,
   "metadata": {},
   "outputs": [],
   "source": [
    "url = f'{base_url}/get_config/{id_device}'\n"
   ]
  },
  {
   "cell_type": "code",
   "execution_count": 65,
   "metadata": {},
   "outputs": [
    {
     "data": {
      "text/plain": [
       "'http://192.168.0.48:5000/get_config/123'"
      ]
     },
     "execution_count": 65,
     "metadata": {},
     "output_type": "execute_result"
    }
   ],
   "source": [
    "url"
   ]
  },
  {
   "cell_type": "code",
   "execution_count": 81,
   "metadata": {},
   "outputs": [
    {
     "data": {
      "text/plain": [
       "{'status': {'accelerometer': {'enable': True,\n",
       "   'error': 0,\n",
       "   'vibrationDetect': True,\n",
       "   'x': 10,\n",
       "   'y': 10,\n",
       "   'z': 10},\n",
       "  'app': {'fwVersion': 'v1.3.0',\n",
       "   'hwVersion': 'v1.0.0',\n",
       "   'serialNumber': '0x1231237894579834857938457',\n",
       "   'timestamp': 1706016312},\n",
       "  'battery': {'accumulatedCapacity': 2000,\n",
       "   'batteryAlert': 100,\n",
       "   'batteryStatus': 10,\n",
       "   'cal_count': 10,\n",
       "   'cal_current': 100,\n",
       "   'cal_temperature': 10000,\n",
       "   'cal_voltage': 1000,\n",
       "   'current': 100,\n",
       "   'designCapacity': 5,\n",
       "   'enable': True,\n",
       "   'error': 0,\n",
       "   'internalTemperature': 30,\n",
       "   'measured_z': 20,\n",
       "   'scaled_r': 10,\n",
       "   'stateOfHealth': 3,\n",
       "   'temperature': 25,\n",
       "   'voltage': 330},\n",
       "  'camera': {'error': 0},\n",
       "  'infra_red': {'enable': True, 'error': 0, 'humanDetect': False},\n",
       "  'memory': {'error': 0, 'sizeMemory': 134217728, 'usedMemory': 1024},\n",
       "  'wifi': {'device': 'DA16200',\n",
       "   'dhcp': True,\n",
       "   'dns': '192.168.1.1',\n",
       "   'dns2': '192.168.1.2',\n",
       "   'gateway': '192.168.1.1',\n",
       "   'ip_address': '192.168.1.19',\n",
       "   'mac': 'AA:BB:CC:DD:EE:FF',\n",
       "   'netmask': '255.255.255.0',\n",
       "   'sdk': '3.2.8.0',\n",
       "   'sntp': 'pool.ntp.org',\n",
       "   'sntp2': '1.pool.ntp.org',\n",
       "   'ssid': '@MyNetwork',\n",
       "   'version': 'FRTOS-GEN01-01-f017bfdf51-006558'}}}"
      ]
     },
     "execution_count": 81,
     "metadata": {},
     "output_type": "execute_result"
    }
   ],
   "source": [
    "requests.get(url).json()"
   ]
  },
  {
   "cell_type": "code",
   "execution_count": 70,
   "metadata": {},
   "outputs": [],
   "source": [
    "import redis\n",
    "import json\n",
    "\n",
    "class Formater(object):\n",
    "    @staticmethod\n",
    "    def format(item):\n",
    "        if item:\n",
    "            config = json.loads(item)\n",
    "        else:\n",
    "            config = \"Device not found\"\n",
    "        return config\n",
    "    \n",
    "    @staticmethod\n",
    "    def dumps(log_data):\n",
    "        return json.dumps(log_data)\n"
   ]
  },
  {
   "cell_type": "code",
   "execution_count": 78,
   "metadata": {},
   "outputs": [],
   "source": [
    "\n",
    "class Database(object):\n",
    "    def __init__(self, host='192.168.0.48', port=6379, db=0):\n",
    "        self.redis_conn = redis.StrictRedis(host=host, port=port, db=db)\n",
    "\n",
    "    def select(self, id_device):\n",
    "        config_json = self.redis_conn.get(id_device)\n",
    "        config = Formater().format(config_json)\n",
    "        return config\n",
    "\n",
    "    def insert(self, id_device, log_data):\n",
    "        log_data_dumps = Formater().dumps(log_data)\n",
    "        self.redis_conn.set(id_device, log_data_dumps)\n",
    "        \n"
   ]
  },
  {
   "cell_type": "code",
   "execution_count": 79,
   "metadata": {},
   "outputs": [],
   "source": [
    "db = Database()"
   ]
  },
  {
   "cell_type": "code",
   "execution_count": 80,
   "metadata": {},
   "outputs": [
    {
     "data": {
      "text/plain": [
       "{'app': {'timestamp': 1706016312,\n",
       "  'fwVersion': 'v1.3.0',\n",
       "  'hwVersion': 'v1.0.0',\n",
       "  'serialNumber': '0x1231237894579834857938457'},\n",
       " 'accelerometer': {'enable': True,\n",
       "  'error': 0,\n",
       "  'x': 10,\n",
       "  'y': 10,\n",
       "  'z': 10,\n",
       "  'vibrationDetect': True},\n",
       " 'infra_red': {'enable': True, 'error': 0, 'humanDetect': False},\n",
       " 'battery': {'enable': True,\n",
       "  'error': 0,\n",
       "  'accumulatedCapacity': 2000,\n",
       "  'temperature': 25,\n",
       "  'voltage': 330,\n",
       "  'batteryStatus': 10,\n",
       "  'batteryAlert': 100,\n",
       "  'current': 100,\n",
       "  'scaled_r': 10,\n",
       "  'measured_z': 20,\n",
       "  'internalTemperature': 30,\n",
       "  'stateOfHealth': 3,\n",
       "  'designCapacity': 5,\n",
       "  'cal_count': 10,\n",
       "  'cal_current': 100,\n",
       "  'cal_voltage': 1000,\n",
       "  'cal_temperature': 10000},\n",
       " 'camera': {'error': 0},\n",
       " 'memory': {'error': 0, 'sizeMemory': 134217728, 'usedMemory': 1024},\n",
       " 'wifi': {'device': 'DA16200',\n",
       "  'sdk': '3.2.8.0',\n",
       "  'version': 'FRTOS-GEN01-01-f017bfdf51-006558',\n",
       "  'dhcp': True,\n",
       "  'ip_address': '192.168.1.19',\n",
       "  'netmask': '255.255.255.0',\n",
       "  'gateway': '192.168.1.1',\n",
       "  'dns': '192.168.1.1',\n",
       "  'dns2': '192.168.1.2',\n",
       "  'sntp': 'pool.ntp.org',\n",
       "  'sntp2': '1.pool.ntp.org',\n",
       "  'ssid': '@MyNetwork',\n",
       "  'mac': 'AA:BB:CC:DD:EE:FF'}}"
      ]
     },
     "execution_count": 80,
     "metadata": {},
     "output_type": "execute_result"
    }
   ],
   "source": [
    "db.select('123')"
   ]
  },
  {
   "cell_type": "code",
   "execution_count": null,
   "metadata": {},
   "outputs": [],
   "source": []
  }
 ],
 "metadata": {
  "kernelspec": {
   "display_name": "env",
   "language": "python",
   "name": "python3"
  },
  "language_info": {
   "codemirror_mode": {
    "name": "ipython",
    "version": 3
   },
   "file_extension": ".py",
   "mimetype": "text/x-python",
   "name": "python",
   "nbconvert_exporter": "python",
   "pygments_lexer": "ipython3",
   "version": "3.10.12"
  }
 },
 "nbformat": 4,
 "nbformat_minor": 2
}
